{
 "cells": [
  {
   "cell_type": "markdown",
   "metadata": {},
   "source": [
    "# Maximum Entropy Inverse Reinforcement Learning\n",
    "\n",
    "Based on the paper of the same name by Brian D. Ziebart"
   ]
  },
  {
   "cell_type": "markdown",
   "metadata": {},
   "source": [
    "## Introduction\n",
    "\n",
    "The Inverse Reinforcement Learning Problem is defined as follows:\n",
    "\n",
    "Given \n",
    "* Markov Decision Process (S, A, T, r, $\\gamma$)\n",
    "* Dataset $\\mathcal{D} = \\{ \\tau_1, \\tau_2, ...\\}$\n",
    "* and Expert Trajectories $\\tau = ((s_1, a_1), (s_2, a_2), ...)\\in \\mathcal{D}$\n",
    "\n",
    "find the reward function $r(s)$ that results in an optimal policy $\\pi$ that generates the Expert Trajectories $\\mathcal{D}$.\n",
    "\n",
    "This ambiguity needs to be resolved to make IRL a well-defined optimization problem.\n",
    "The approach presented by Ziebart strives to solve this problem by framing it as a Constrained Optimization Problem. The Entropy of the resulting Trajectory Distribution is maximized, while enforcing matching feature expectations to Expert Trajectories."
   ]
  },
  {
   "cell_type": "code",
   "execution_count": 1,
   "metadata": {},
   "outputs": [],
   "source": [
    "import numpy as np\n",
    "import gym\n",
    "import os\n",
    "import time\n",
    "from itertools import product\n",
    "import matplotlib.pyplot as plt\n",
    "from IPython.display import clear_output"
   ]
  },
  {
   "cell_type": "markdown",
   "metadata": {},
   "source": [
    "## Utility Functions"
   ]
  },
  {
   "cell_type": "code",
   "execution_count": 2,
   "metadata": {},
   "outputs": [],
   "source": [
    "def to_onehot(state, num_states):\n",
    "    \"\"\"\n",
    "    represent a state as a vector\n",
    "    can be interpreted as a mapping from state to feature\n",
    "    \n",
    "    example: f(1,4) -> (0,1,0,0)\n",
    "             f(3,4) -> (0,0,0,1)\n",
    "    \n",
    "    state:       integer representing the current state\n",
    "    num_state:   total number of states\n",
    "    \"\"\"\n",
    "    result = np.zeros(num_states)\n",
    "    result[state] = 1\n",
    "    return result\n",
    "\n",
    "def softmax1D(vec: np.ndarray):\n",
    "    \"\"\"\n",
    "    compute the softmax of vec\n",
    "    \"\"\"\n",
    "    transformed_vec = vec - np.max(vec)\n",
    "    numerator = np.exp(transformed_vec)\n",
    "    denominator = np.sum(numerator)\n",
    "    return numerator/denominator\n",
    "\n",
    "def visualize_policy(policy, other_policy=None):\n",
    "    left = \"\\u2190\"\n",
    "    down = \"\\u2193\"\n",
    "    right = \"\\u2192\"\n",
    "    up = \"\\u2191\"\n",
    "    action_map = [left,down,right,up]\n",
    "    for i in range(policy.shape[0]):\n",
    "        for j in range(policy.shape[1]):\n",
    "            arrow = action_map[policy[i,j]]\n",
    "            if other_policy is not None:\n",
    "                if policy[i,j]!=other_policy[i,j]: arrow = '\\x1b[6;30;42m'+arrow+'\\x1b[0m'\n",
    "            print(arrow, end=\" \")\n",
    "                \n",
    "        print(\"\")\n",
    "\n",
    "def plot_reward(reward, text=True, use_hsv=False, vrange=None):\n",
    "    \"\"\" \n",
    "    Function from https://github.com/humans-to-robots-motion/rl-course/blob/master/ex05-td/ex05-td.py\n",
    "    Adapted to plot reward and visualize environment\n",
    "    \n",
    "    reward:   reward for each state\n",
    "    env:      gym environment\n",
    "    text:     whether to add values as text\n",
    "    use_hsv:  whether to use hsv color map\n",
    "    \"\"\"\n",
    "    fig = plt.figure()\n",
    "    \n",
    "    dims = (8,8)\n",
    "    reward_reshaped = np.zeros(dims)\n",
    "    for s in range(len(reward)):\n",
    "        idx = np.unravel_index(s, dims)\n",
    "        reward_reshaped[idx] = np.max(reward[s])\n",
    "    \n",
    "    min_r = np.min(reward_reshaped)\n",
    "    max_r = np.max(reward_reshaped)\n",
    "    \n",
    "    if vrange is not None:\n",
    "        min_r, max_r = vrange\n",
    "    \n",
    "    colormap = plt.cm.hsv if use_hsv else plt.cm.RdYlGn\n",
    "    \n",
    "    plt.imshow(reward_reshaped, origin='upper', \n",
    "               extent=[0,dims[0],0,dims[1]], vmin=min_r, vmax=max_r, \n",
    "               cmap=colormap, interpolation='none')\n",
    "    \n",
    "    if text:\n",
    "        for x, y in product(range(dims[0]), range(dims[1])):\n",
    "            plt.text(y+0.5, dims[0]-x-0.5, '{:.2f}'.format(reward_reshaped[x,y]),\n",
    "                    horizontalalignment='center', \n",
    "                    verticalalignment='center')\n",
    "    plt.xticks([])\n",
    "    plt.yticks([])\n",
    "\n",
    "def plot_frozenlake_8x8():\n",
    "    \"\"\"\n",
    "    Plot a visual representation of the FrozenLake8x8 environment\n",
    "    \"\"\"\n",
    "    env_map = np.arange(env.num_states).reshape((8,8))\n",
    "    env_map[[1,3,5,7]] += 1\n",
    "    env_map %= 2\n",
    "    env_map = np.array(env_map, dtype=float)\n",
    "    env_map *= 0.01\n",
    "    env_map += 0.35\n",
    "    \n",
    "    env_map = env_map.flatten()\n",
    "    env_map[env.terminal_states] = 0.8\n",
    "    env_map[env.num_states-1] = 0.2\n",
    "    env_map[0] = 0.1\n",
    "    \n",
    "    plot_reward(env_map, text=False, use_hsv=True, vrange=(0.0,0.6))\n",
    "\n",
    "def value_iteration(env, reward_fn=None, gamma = 0.99, delta_threshold = 0.001):\n",
    "    \"\"\"\n",
    "    env:              environment implementing gym interface, with added attributes\n",
    "                      (num_states, num_actions, P, terminal_states)\n",
    "    reward_fn:        function(state,action) -> reward\n",
    "                      if None: use reward function of environment\n",
    "    gamma:            discounting factor\n",
    "    delta_threshold:  stopping criterion based on update magnitude\n",
    "    \"\"\"\n",
    "    num_states = env.num_states\n",
    "    num_actions = env.num_actions\n",
    "    P = env.P\n",
    "    terminal_states = env.terminal_states\n",
    "    \n",
    "    delta = np.inf\n",
    "    \n",
    "    max_iter = 10000\n",
    "    count = 0\n",
    "    V = np.zeros(num_states)\n",
    "    while not delta < delta_threshold and count < max_iter:\n",
    "        delta = 0\n",
    "        for state in range(num_states):\n",
    "            if state in terminal_states:\n",
    "                continue\n",
    "            \n",
    "            old_v = V[state]\n",
    "            \n",
    "            # for each action calculate value\n",
    "            action_vals = np.zeros(num_actions)\n",
    "            for action in range(num_actions):\n",
    "                action_val = 0\n",
    "                for prob, next_state, reward, _ in P[state][action]:\n",
    "                    if reward_fn is not None:\n",
    "                        reward = reward_fn(next_state, action)\n",
    "                    action_val += prob*(reward+gamma*V[next_state])\n",
    "                action_vals[action] = action_val\n",
    "            \n",
    "            V[state] = np.max(action_vals)\n",
    "            delta = max((delta, np.abs(old_v-V[state])))\n",
    "            \n",
    "        count += 1\n",
    "\n",
    "    return V\n",
    "\n",
    "def stochastic_policy_from_values(V, P, gamma, num_states, num_actions, reward_fn=None):\n",
    "    \"\"\"\n",
    "    compute a stochastic policy given the value function\n",
    "    this is done by computing the softmax on the q-values to get a probability distribution over actions\n",
    "    \n",
    "    V:          Value Function\n",
    "    P:          State-Action Transition Probabilities\n",
    "    gamma:      discounting factor\n",
    "    num_states: total number of states\n",
    "    reward_fn:  f(state,action)->reward\n",
    "                if None: use reward function of environment\n",
    "    \"\"\"\n",
    "    Q = np.zeros((num_states,num_actions))\n",
    "    policy = np.zeros((num_states,num_actions))\n",
    "    for state in range(num_states):\n",
    "        for action in range(num_actions):\n",
    "            for prob, next_state, reward, done in P[state][action]:\n",
    "                if reward_fn is not None:\n",
    "                    reward = reward_fn(next_state, action)\n",
    "                Q[state][action] += prob*(reward+gamma*V[next_state])\n",
    "        \n",
    "        policy[state] = softmax1D(Q[state])\n",
    "    return policy\n",
    "    \n",
    "\n",
    "def deterministic_policy_from_values(V, P, gamma, num_states, num_actions, reward_fn=None):\n",
    "    \"\"\"\n",
    "    compute a deterministic, greedy policy given the value function\n",
    "    always choses the stochastic action with the highest probability\n",
    "    \n",
    "    V:          Value Function\n",
    "    P:          State-Action Transition Probabilities\n",
    "    gamma:      discounting factor\n",
    "    num_states: total number of states\n",
    "    reward_fn:  f(state,action)->reward\n",
    "                if None: use reward function of environment\n",
    "    \"\"\"\n",
    "    stochastic_policy = stochastic_policy_from_values(V, P, gamma, num_states, num_actions, reward_fn=reward_fn)\n",
    "    return np.argmax(stochastic_policy, axis=1)\n",
    "    "
   ]
  },
  {
   "cell_type": "markdown",
   "metadata": {},
   "source": [
    "## Computing State Visitation Frequencies"
   ]
  },
  {
   "cell_type": "markdown",
   "metadata": {},
   "source": [
    "State Occupancy Frequencies for the current reward function are required to compute the Gradient for Maximizing the Log Likelihood of the trajectories conditioned on the reward weights.  \n",
    "\n",
    "The gradient looks like this:\n",
    "\n",
    "$ \\displaystyle L_\\theta = \\tilde{f} - \\sum_\\tau {P(\\tau | \\theta) f_\\tau}$\n",
    "\n",
    "However, it is not feasible to sum over all trajectories. By summing over the finite set of states the problem can be avoided:\n",
    "\n",
    "$ \\displaystyle L_\\theta = \\tilde{f} - \\sum_s {D_s f_s}$\n",
    "\n",
    "The new Gradient Equation now requires the expected state occupancy frequncies $D_s$.  \n",
    "They can be computed efficiently using a forward-backward algorithm that is similar to Value Iteration.  \n",
    "\n",
    "In the first three steps, a stochastic policy or probability distribution actions, conditioned on the state is computed.\n",
    "First, factors for state ocurrences Zs are initialized by assigning one to all terminal states:\n",
    "$Z_{s_{terminal}} = 1$.  \n",
    "The next step is the backward pass:  \n",
    "$ \\displaystyle Z_{a_{i,j}} = \\sum_k P(s_k | s_i, a_{i,j}) e^{r_\\theta(s_i)} Z_{s_k}$  \n",
    "$ \\displaystyle Z_{s_i} = \\sum_{a_{i,j}} Z_{a_{i,j}} + [s_i \\in S_{terminal}]$  \n",
    "Intuitively, the weight $e^{r_\\theta(s_i)}$ makes coming from a higher reward state $s_i$ into $s_k$ more likely compared to lower reward states, as $s_i$ has a higher weight.\n",
    "\n",
    "Due to summing over exponentiated reward values for multiple iterations, overflows can occurr. To mend this problem to a certain degree, the factors are normalized after every step.\n",
    "\n",
    "Finally, one can derive a stochastic policy by normalizing $Z_{a_{i,j}}$ using $Z_{s_i}$ for each state-action pair:  \n",
    "$ \\pi(a_{i,j}|s_i) = \\frac{Z_{a_{i,j}}}{Z_{s_i}}$  \n",
    "\n",
    "As this method does not perform well on FrozenLake, it was replaced by value iteration. Taking the softmax over the q-values of each state produces the stochastic policy.\n",
    "\n",
    "During the last three steps, the state occupancy frequencies D_{s,t} are calculated in a forward pass, making use of the previously calculated policy. \n",
    "$D_{s_i,t=0}=P(s_i = s_{initial})$  \n",
    "$ D_{s_k,t+1} = \\sum_{s_i}\\sum_{a_{i,j}} D_{s_i,t} \\pi(a_{i,j}|s_i) P(s_k | s_i, a_{i,j}) $  \n",
    "This results in the state occupancy frequencies for each timestep, where timestep zero corresponds to the initial state distribution. Accumulating the frequencies over all timsteps yields the overall state occupancy frequncies.  \n",
    "$\\displaystyle D_{s_i} = \\sum_t D_{s_i,t}$\n",
    "\n",
    "These are normalized by the sum of all vector entries (same as multiplying with $\\frac{1}{num\\_timesteps})$ to get a probability distribution."
   ]
  },
  {
   "cell_type": "code",
   "execution_count": 3,
   "metadata": {},
   "outputs": [],
   "source": [
    "def compute_state_visitation_frequencies(env, reward_fn, iterations = 200, use_paper_backward_pass=False):\n",
    "    \"\"\"\n",
    "    compute state visitation frequencies based on the transition probabilities P of environment env and terminal states\n",
    "    \"\"\"\n",
    "    \n",
    "    P = env.P\n",
    "    num_states = env.num_states\n",
    "    num_actions = env.num_actions\n",
    "    terminal_states = env.terminal_states\n",
    "    initial_Ps = env.initial_Ps  \n",
    "\n",
    "    # use backward pass from paper\n",
    "    if use_paper_backward_pass:\n",
    "        \n",
    "        # step 1: initialize factors\n",
    "\n",
    "        # factor Zs initially corresponds to terminal state distribution\n",
    "        Zs_final = np.zeros(num_states)\n",
    "        Zs_final[terminal_states] = 1 \n",
    "        Zs = np.zeros(num_states)\n",
    "        Zs[terminal_states] = 1\n",
    "\n",
    "        # factor Za is initialized by the backward pass from Zs\n",
    "        Za = np.zeros((num_states, num_actions))\n",
    "\n",
    "        # step 2: backward pass\n",
    "        for _ in range(iterations):\n",
    "\n",
    "            # update Za based on state-factors Zs\n",
    "            for state in range(num_states):\n",
    "                for action in range(num_actions):\n",
    "\n",
    "                    Za[state, action] = sum(\n",
    "                            [prob*(np.e**(reward_fn(state,action)))*Zs[next_state]\n",
    "                                for prob, next_state, _, done in P[state][action]]\n",
    "                        )\n",
    "\n",
    "            # normalize factor to prevent overflow\n",
    "            Za /= np.sum(Za)\n",
    "\n",
    "            # update Zs by summing over state-action factors Za\n",
    "            Zs = np.zeros(num_states)\n",
    "            for state in range(num_states):\n",
    "                for action in range(num_actions):\n",
    "                    Zs[state] += Za[state, action]\n",
    "\n",
    "                Zs[state] += Zs_final[state]\n",
    "\n",
    "            # normalize factor to prevent overflow\n",
    "            Zs /= np.sum(Zs)\n",
    "\n",
    "\n",
    "        # step 3\n",
    "        # Local action probability computation\n",
    "        P_sa = np.array([\n",
    "                [Za[state, action]/Zs[state] for action in range(num_actions)]\n",
    "                for state in range(num_states)\n",
    "            ])\n",
    "        P_sa = P_sa/np.sum(P_sa, axis=1)[:,None]\n",
    "\n",
    "        policy = np.argmax(P_sa, axis=1)\n",
    "    \n",
    "    # use value iteration for backward pass\n",
    "    else:\n",
    "        gamma = 0.999\n",
    "        V = value_iteration(env, reward_fn=reward_fn, gamma = gamma, delta_threshold = 0.01)\n",
    "        P_sa = stochastic_policy_from_values(V, P, gamma, num_states, num_actions, reward_fn=reward_fn)\n",
    "        # when using deterministic policy:\n",
    "        # policy = deterministic_policy_from_values(V, P, gamma, num_states, num_actions, reward_fn=reward_fn)\n",
    "\n",
    "    # step 4\n",
    "    # set D at timestep 0 initial state distribution\n",
    "    timesteps = 200\n",
    "    D = np.zeros((timesteps, num_states))\n",
    "    D[0] = initial_Ps\n",
    "    \n",
    "    \n",
    "    # Delete this\n",
    "    #print(\"start\")\n",
    "    #print(P_sa)\n",
    "    #visualize_policy(policy.reshape(8,8))\n",
    "    \n",
    "    # step 5: forward pass\n",
    "    # calculate visitation frequences at each timestep\n",
    "    for t in range(timesteps-1):\n",
    "        \n",
    "        for state_i in range(num_states):\n",
    "\n",
    "            for action in range(num_actions):\n",
    "                \n",
    "                for p_sas, state_k, _, done in env.P[state_i][action]:\n",
    "                    \n",
    "                    # go from state_i to state_k\n",
    "                    # old paper suggests D[t+1, state_i] += ( D[t, state_k] * P_sa[state_i, action] * p_sas )\n",
    "                    # correct version of paper on bziebarts homepage:\n",
    "                    D[t+1, state_k] += ( D[t, state_i] * P_sa[state_i, action] * p_sas )\n",
    "                    # Version using deterministic policy:\n",
    "                    # D[t+1, state_k] += ( D[t, state_i] * (policy[state_i] == action) * p_sas )\n",
    "                    \n",
    "                    #if t < 4 and p_sas != 0 and D[t, state_i] != 0:\n",
    "                    #    print(f\"from state:{state_i}, action:{action}, next_state:{state_k}, policy[state_i]={policy[state_i]}, equal to action: {(policy[state_i] == action)*1}\")\n",
    "                     \n",
    "        \n",
    "        # Delete this\n",
    "        #plot_reward(D[t+1], env)\n",
    "        #plt.show()\n",
    "        \n",
    "    # Delete this\n",
    "    #plot_reward(D[t+1], env)\n",
    "    #plt.show()\n",
    "        \n",
    "    # step 6: marginalize over time\n",
    "    Ds = np.sum(D, axis=0)\n",
    "\n",
    "    # normalize state visitation frequencies\n",
    "    Ds = Ds / np.sum(Ds)\n",
    "\n",
    "    return Ds"
   ]
  },
  {
   "cell_type": "markdown",
   "metadata": {},
   "source": [
    "## Expert Feature Expectation\n",
    "\n",
    "Revisiting the computation of the Gradient of the Trajectory Log-Likelihood, one component is still missing:  \n",
    "$ \\displaystyle L_\\theta = \\tilde{f} - \\sum_s {D_s f_s}$  \n",
    "\n",
    "The Expert Empirical Feature Expectations $\\tilde{f}$ are computed by summing over the accumulated features $f_\\tau$ of all trajectories $\\tau$:  \n",
    "$f_\\tau = \\sum_{s_t \\in \\tau} f_{s_t}$  \n",
    "$ \\tilde{f} = E_{P(\\tau)}[f_\\tau] = \\sum_{\\tau} P(\\tau) f_\\tau \\approx \\frac{1}{|\\mathcal{D}|} \\sum_{\\tau \\in \\mathcal{D}} f_\\tau$\n",
    "\n",
    "As not all trajectories have the same length, the length of the longest trajectory is set as the duration of the outer loop (in case of FrozenLake the limits is 200 timesteps). For shorter trajectories, the last state of the trajectory is a terminal state that the agent is staying at for the remaining amount of time. This is in line with the forward pass for state occupancy computation, where the probability mass is shifting to terminal states over the same number of timesteps.  \n",
    "\n",
    "Finally, the feature expectations are normalized over the number of expert trajectories and the number of timesteps to be comparable with the results of the state occupancy calculation."
   ]
  },
  {
   "cell_type": "code",
   "execution_count": 4,
   "metadata": {},
   "outputs": [],
   "source": [
    "def calculate_expert_feature_expectation(expert_trajectories, feature_fn, feature_len):\n",
    "    \"\"\"\n",
    "    expert_trajectories: [(action_1, reward_1, obs_1),...,(action_n, reward_n, obs_n)]\n",
    "    feature_fn           function(state)->feature\n",
    "    feature_len:         length of the feature vector\n",
    "    \"\"\"\n",
    "    T = len(max(expert_trajectories,key=lambda x: len(x)))\n",
    "    expert_feature_expectations = np.zeros(feature_len)\n",
    "    \n",
    "    for trajectory in expert_trajectories:\n",
    "        trajectory_feature_expectation = np.zeros(feature_len)\n",
    "        for t in range(T):\n",
    "            expert_feature_expectations += feature_fn(trajectory[t if t<len(trajectory) else -1][2])\n",
    "    \n",
    "    return expert_feature_expectations / (len(expert_trajectories)*T)"
   ]
  },
  {
   "cell_type": "markdown",
   "metadata": {},
   "source": [
    "## Maximum Entropy IRL Algorithm\n",
    "\n",
    "Having seen the components of the gradient update, the Gradient Ascend update of the reward weights can be assembled.  \n",
    "\n",
    "The following steps are taken to update the reward weights:\n",
    "\n",
    "1. Initialize reward function weights $\\theta$  \n",
    "2. Calculate the Empirical Feature Expectation $\\tilde{f}$ of the Expert Trajectories  \n",
    "Repeat:  \n",
    "3. Calculate a (stochastic) policy $\\pi$ according to the current approximation of the reward function\n",
    "4. Calculate the State Visitation Frequencies $P(s|\\theta,T)$ for $\\pi$\n",
    "5. Update the rewards weights $\\theta$ by Gradient Ascend on the Log Likelihood of the Expert Trajectories:  \n",
    "  $\\theta_{t+1} = \\theta_t +  \\alpha \\frac{1}{|\\mathcal{D}|} (\\tilde{f} - \\sum_{s \\in S}  P(s | \\theta, T) f_s)$"
   ]
  },
  {
   "cell_type": "code",
   "execution_count": 5,
   "metadata": {},
   "outputs": [],
   "source": [
    "def max_ent_irl(env, reward_weights, reward_fn, feature_fn, expert_demonstrations, num_gradient_steps = 100):\n",
    "    \"\"\"\n",
    "    env:    environment implementing the OpenAI gym interface\n",
    "            needs to have:\n",
    "                - fixed set of discrete states\n",
    "                - fixed set of discrete actions\n",
    "                - env.P: fixed discrete transition probability distribution over states and actions\n",
    "    \n",
    "    reward_weights:        weights used in the reward function, len(reward_weights) = len(feature)\n",
    "    reward_fn:             function(state, action) -> reward\n",
    "    feature_fn:             \n",
    "    expert_demonstrations: [(action_1, reward_1, obs_1),...,(action_n, reward_n, obs_n)]\n",
    "\n",
    "    return: reward_weights of linear reward function\n",
    "    \"\"\"\n",
    "    \n",
    "    # environment properties\n",
    "    num_states = env.num_states\n",
    "    num_actions = env.num_actions\n",
    "    terminal_states = env.terminal_states\n",
    "    initial_Ps = env.initial_Ps\n",
    "    \n",
    "    # verbose\n",
    "    plot_progress = False\n",
    "    track_progress = True\n",
    "    gradient_norms = []\n",
    "    \n",
    "    feature_len = len(reward_weights)\n",
    "\n",
    "    expert_feature_expectation = calculate_expert_feature_expectation(\n",
    "                                    expert_demonstrations, feature_fn, feature_len)\n",
    "\n",
    "    \n",
    "    def step_size(step):\n",
    "        return 1\n",
    "    \n",
    "    def plot_progress_fn(step, gradient, expert_feature_expectation, current_feature_expectation):\n",
    "        print(\"expert feature expectation\")\n",
    "        plot_reward(expert_feature_expectation, env, vrange=(0,0.6))\n",
    "        plt.show()\n",
    "        print(\"learner feature expectation\")\n",
    "        plot_reward(current_feature_expectation, env, vrange=(0,0.6))\n",
    "        plt.show()\n",
    "        irl_reward = [reward_fn(state,0) for state in range(env.num_states)]\n",
    "        print(\"reward\")\n",
    "        plot_reward(irl_reward, env)\n",
    "        plt.show()\n",
    "    \n",
    "    for step in range(num_gradient_steps):\n",
    "        \n",
    "        # computing the expert feature expectations\n",
    "        D = compute_state_visitation_frequencies(env, reward_fn)\n",
    "        \n",
    "        # computing the current feature expectations\n",
    "        current_feature_expectation = sum([D[state]*feature_fn(state) for state in range(num_states)])\n",
    "        \n",
    "        # the gradient is the difference of expert feature expectations and current feature expectations\n",
    "        gradient = expert_feature_expectation - current_feature_expectation\n",
    "        \n",
    "        # gradient ascend step\n",
    "        reward_weights[:] += step_size(step) * gradient\n",
    "        \n",
    "        if track_progress:\n",
    "            clear_output(wait=True)\n",
    "            print(f\"Progress: {step/num_gradient_steps : 6.5f}, Gradient L1 Norm: {np.sum(np.abs(gradient)) : 6.5f}\")\n",
    "            gradient_norms.append(np.sum(np.abs(gradient)))\n",
    "            \n",
    "        if plot_progress:\n",
    "            plot_progress_fn(step, gradient, expert_feature_expectation, current_feature_expectation)\n",
    "            \n",
    "    if track_progress:\n",
    "        clear_output(wait=True)\n",
    "        plot_progress_fn(step, gradient, expert_feature_expectation, current_feature_expectation)\n",
    "        print(\"L1 norm of the gradient (difference of expert and learner feature expectations)\")\n",
    "        plt.plot(gradient_norms)\n",
    "        plt.show()\n",
    "    \n",
    "    return reward_weights"
   ]
  },
  {
   "cell_type": "markdown",
   "metadata": {},
   "source": [
    "## Generating Rollouts using (Optimal) Policy\n",
    "\n",
    "In order to generate the expert trajectories, a policy is calculated using Value Iteration.\n",
    "The expert policy is calculated from the True Reward Function, making it optimal with respect to the true reward function and the given discounting factor $\\gamma=0.99$.  \n",
    "After computing the expert policy, it can be rolled out on the environment, producing the dataset of expert trajectories.  \n",
    "The dataset $\\mathcal{D}$ is a list of expert trajectories of the following form:  \n",
    "$((-, -, s_0), (a_1, r_1, s_1), \\ldots, (a_n, r_n, s_n)) \\in \\mathcal{D}$"
   ]
  },
  {
   "cell_type": "code",
   "execution_count": 6,
   "metadata": {},
   "outputs": [],
   "source": [
    "def generate_rollouts(env, policy, num_rollouts=10, render=False, render_fps=2):\n",
    "    \"\"\"\n",
    "    generate rollouts on env with specified policy \n",
    "    \n",
    "    env:           gym environment\n",
    "    policy:        policy of the agent, list containing actions for each state\n",
    "    num_rollouts:  number of rollouts to generate\n",
    "    render:        if set True, animate the rollout\n",
    "    render_fps:    delay between steps is 1/render_fps\n",
    "    \n",
    "    return:        rollouts following the specified policy of follwing format:\n",
    "                   [(action_1, reward_1, obs_1),...,(action_n, reward_n, obs_n)]\n",
    "    \"\"\"\n",
    "    expert_demonstrations = []\n",
    "    for _ in range(num_rollouts):\n",
    "        done = False\n",
    "        obs = env.reset()\n",
    "        trajectory = [(None, None, obs)]\n",
    "        while not done:\n",
    "            action = policy[obs]\n",
    "            obs, reward, done, info = env.step(action)\n",
    "            if render:\n",
    "                clear_output(wait=True)\n",
    "                env.render()\n",
    "                time.sleep(1/render_fps)\n",
    "                \n",
    "            trajectory.append((action, reward, obs))\n",
    "        expert_demonstrations.append(trajectory)\n",
    "    \n",
    "    return expert_demonstrations\n",
    "\n",
    "def get_expert_demos_valiter(env):\n",
    "    \"\"\"\n",
    "        finds the optimal policy for env using value iteration\n",
    "        \n",
    "        env:    gym environment\n",
    "        \n",
    "        return: rollouts using the optimal policy of following format:\n",
    "                [(action_1, reward_1, obs_1),...,(action_n, reward_n, obs_n)]\n",
    "    \"\"\"\n",
    "    num_actions = env.num_actions\n",
    "    num_states = env.num_states\n",
    "    gamma = 0.999\n",
    "    V = value_iteration(env,gamma=gamma)\n",
    "    policy = deterministic_policy_from_values(V, env.P, gamma, num_states, num_actions)\n",
    "    return generate_rollouts(env, policy, num_rollouts=100), policy"
   ]
  },
  {
   "cell_type": "markdown",
   "metadata": {},
   "source": [
    "## Creating the FrozenLake environment\n",
    "\n",
    "The FrozenLake8x8-v0 environment was chosen as a challenging stochastic environment.  \n",
    "Additional helper variables are added to simplify the code and avoid redefinition."
   ]
  },
  {
   "cell_type": "code",
   "execution_count": 7,
   "metadata": {},
   "outputs": [],
   "source": [
    "# run maximum entropy inverse reinforcement learning on FrozenLake8x8\n",
    "env = gym.make(\"FrozenLake8x8-v0\")\n",
    "env.num_states = 64\n",
    "env.num_actions = 4\n",
    "env.terminal_states = [19, 29, 35, 41, 42, 46, 49, 52, 54, 59, 63]\n",
    "env.initial_Ps = np.zeros(env.num_states)\n",
    "env.initial_Ps[0] = 1"
   ]
  },
  {
   "cell_type": "markdown",
   "metadata": {},
   "source": [
    "## Defining Feature Functions\n",
    "\n",
    "Feature functions are used to map integer-valued state to vector-valued features.\n",
    "Two different feature functions are defined:  \n",
    "\n",
    "The ```onehote_feature_fn``` encodes each state as onehot vector with the size of the features.  \n",
    "Example:  \n",
    "\n",
    "    num_states = 5\n",
    "    state = 3\n",
    "    onehot_feature_fn(state, num_states) == [0,0,0,1,0]\n",
    "    \n",
    "The ```neighbor_feature_fn``` encodes the currently occupied state and the four neighboring states as a onehot-representation of their types.\n",
    "Example assuming only 3 types H, F and G:  \n",
    "\n",
    "    neighbors:\n",
    "     \n",
    "        F\n",
    "     F *H* H\n",
    "        G\n",
    "    \n",
    "    H corresponds to [1,0,0]\n",
    "    G corresponds to [0,1,0]\n",
    "    F corresponds to [0,0,1]\n",
    "    \n",
    "                                    center, H  left, F  right, H  left, F  bottom, G\n",
    "    neighbor_feature_fn(state) = [  1,0,0,     0,0,1,   1,0,0,    0,0,1,   0,1,0      ]\n",
    "    \n",
    "However, this feature function produced low agent success rates around $30\\%$ hence it is not evaluated here."
   ]
  },
  {
   "cell_type": "code",
   "execution_count": 8,
   "metadata": {},
   "outputs": [],
   "source": [
    "feature_len = 64\n",
    "# for neighbor feature function:\n",
    "# feature_len = 25\n",
    "\n",
    "reward_weights = np.zeros(feature_len)\n",
    "    \n",
    "def onehot_feature_fn(state):\n",
    "    return to_onehot(state, feature_len)\n",
    "\n",
    "def neighbor_feature_fn(state):\n",
    "    row = int(state % 8)\n",
    "    col = int(state // 8)\n",
    "    \n",
    "    mapping = {b\"S\": 0, b\"F\": 1, b\"H\":2, b\"G\":3}\n",
    "    num_types = 5\n",
    "    \n",
    "    center = mapping[env.unwrapped.desc[row,col]]\n",
    "    if col < 1:\n",
    "        left = 4\n",
    "    else:\n",
    "        left = mapping[env.unwrapped.desc[row,col-1]]\n",
    "    \n",
    "    if col > 6:\n",
    "        right = 4\n",
    "    else:\n",
    "        right = mapping[env.unwrapped.desc[row,col+1]]\n",
    "    \n",
    "    if row < 1:\n",
    "        top = 4\n",
    "    else:\n",
    "        top = mapping[env.unwrapped.desc[row-1,col]]\n",
    "        \n",
    "    if row > 6:\n",
    "        bottom = 4\n",
    "    else:\n",
    "        bottom = mapping[env.unwrapped.desc[row+1,col]]\n",
    "    \n",
    "    feature_vec = np.concatenate((to_onehot(center, num_types), \n",
    "                                  to_onehot(left, num_types),\n",
    "                                  to_onehot(right, num_types),\n",
    "                                  to_onehot(top, num_types),\n",
    "                                  to_onehot(bottom, num_types)))\n",
    "    \n",
    "    return feature_vec\n",
    "\n",
    "                          \n",
    "feature_fn = onehot_feature_fn"
   ]
  },
  {
   "cell_type": "markdown",
   "metadata": {},
   "source": [
    "## Defining the Linear Reward Function\n",
    "The reward function is defined as linear combination of reward weights and state-features:  \n",
    "$r(s) = w^T f_s$"
   ]
  },
  {
   "cell_type": "code",
   "execution_count": 9,
   "metadata": {},
   "outputs": [],
   "source": [
    "def reward_fn(state,action):\n",
    "        return reward_weights.T@feature_fn(state)"
   ]
  },
  {
   "cell_type": "markdown",
   "metadata": {},
   "source": [
    "## Generating Expert Demonstrations\n",
    "This cell gathers the expert trajectories and returns them, alongside the expert policy."
   ]
  },
  {
   "cell_type": "code",
   "execution_count": 10,
   "metadata": {},
   "outputs": [],
   "source": [
    "expert_demos, expert_policy = get_expert_demos_valiter(env)"
   ]
  },
  {
   "cell_type": "markdown",
   "metadata": {},
   "source": [
    "## Learning the Reward Weights using Maximum Entropy IRL\n",
    "The following cell executes the maximum entropy algorithm implementation to fit the reward weights.  \n",
    "\n",
    "Warning:  \n",
    "This takes quite some time to converge. \n",
    "The L1 Norm of the gradient is decreased to less than 0.2 after 300 gradient steps.\n",
    "This process took 12 minutes on an Intel i5 2400 Desktop Processor from 2011.\n",
    "\n",
    "After the computation, expert and learner feature expectations are plotted, which match quite well.\n",
    "The largest difference can be observed at the goal state. Adding more optimization steps decreases the difference.  \n",
    "The decrease in the L1 norm of the difference in expert and learner feature expectations is displayed in the plot at the bottom of the output."
   ]
  },
  {
   "cell_type": "code",
   "execution_count": 11,
   "metadata": {},
   "outputs": [
    {
     "name": "stdout",
     "output_type": "stream",
     "text": [
      "expert feature expectation\n"
     ]
    },
    {
     "data": {
      "image/png": "[encoded data removed]",
      "text/plain": [
       "<Figure size 432x288 with 1 Axes>"
      ]
     },
     "metadata": {},
     "output_type": "display_data"
    },
    {
     "name": "stdout",
     "output_type": "stream",
     "text": [
      "learner feature expectation\n"
     ]
    },
    {
     "data": {
      "image/png": "[encoded data removed]",
      "text/plain": [
       "<Figure size 432x288 with 1 Axes>"
      ]
     },
     "metadata": {},
     "output_type": "display_data"
    },
    {
     "name": "stdout",
     "output_type": "stream",
     "text": [
      "reward\n"
     ]
    },
    {
     "data": {
      "image/png": "[encoded data removed]",
      "text/plain": [
       "<Figure size 432x288 with 1 Axes>"
      ]
     },
     "metadata": {},
     "output_type": "display_data"
    },
    {
     "name": "stdout",
     "output_type": "stream",
     "text": [
      "L1 norm of the gradient (difference of expert and learner feature expectations)\n"
     ]
    },
    {
     "data": {
      "image/png": "[encoded data removed]",
      "text/plain": [
       "<Figure size 432x288 with 1 Axes>"
      ]
     },
     "metadata": {
      "needs_background": "light"
     },
     "output_type": "display_data"
    }
   ],
   "source": [
    "reward_weights = max_ent_irl(env, reward_weights, reward_fn, feature_fn, expert_demos, num_gradient_steps=300)"
   ]
  },
  {
   "cell_type": "markdown",
   "metadata": {},
   "source": [
    "## Inferring a policy from the Learned Reward Function\n",
    "Value Iteration is used to retrieve the policy from the learned reward function."
   ]
  },
  {
   "cell_type": "code",
   "execution_count": 12,
   "metadata": {},
   "outputs": [],
   "source": [
    "gamma = 0.999\n",
    "V = value_iteration(env, reward_fn=reward_fn, gamma=gamma)\n",
    "resulting_policy = deterministic_policy_from_values(\n",
    "                        V, env.P, gamma, env.num_states, env.num_actions, reward_fn=reward_fn)"
   ]
  },
  {
   "cell_type": "markdown",
   "metadata": {},
   "source": [
    "## FrozenLake 8x8 environment"
   ]
  },
  {
   "cell_type": "markdown",
   "metadata": {},
   "source": [
    "This cell shows the Frozenlake8x8-v0 envrionment.\n",
    "The yellow square represents the starting state and the green one the goal state.  \n",
    "Using the actions up, down, left and right, the agent can move to any of the up to four adjacent states.\n",
    "However, the agent slips with chance of $\\frac{2}{3}$ and executes one of the two actions that are orthogonal to the original one.  \n",
    "For example, if the agent takes the action up, he may end up in states left or right of the current state with a probability of $\\frac{1}{3}$ each. "
   ]
  },
  {
   "cell_type": "code",
   "execution_count": 13,
   "metadata": {},
   "outputs": [
    {
     "data": {
      "image/png": "[encoded data removed]",
      "text/plain": [
       "<Figure size 432x288 with 1 Axes>"
      ]
     },
     "metadata": {},
     "output_type": "display_data"
    }
   ],
   "source": [
    "plot_frozenlake_8x8()"
   ]
  },
  {
   "cell_type": "markdown",
   "metadata": {},
   "source": [
    "# Reward Function Comparison"
   ]
  },
  {
   "cell_type": "code",
   "execution_count": 14,
   "metadata": {},
   "outputs": [],
   "source": [
    "import matplotlib.pyplot as plt\n",
    "feature_matrix = np.eye(env.num_states, env.num_states)\n",
    "\n",
    "irl_reward = [reward_fn(state,0) for state in range(env.num_states)]\n",
    "\n",
    "true_reward = np.zeros(64)\n",
    "true_reward[63] = 1"
   ]
  },
  {
   "cell_type": "markdown",
   "metadata": {},
   "source": [
    "The following two cells show the learned reward function (top) and the true reward function (bottom).  \n",
    "\n",
    "Observations:\n",
    "* The goal state has the highest reward in both cases\n",
    "* States on the right border have smaller positive values\n",
    "* The remaining states have negative rewards\n",
    "* Negative rewards are especially large on some of the holes\n"
   ]
  },
  {
   "cell_type": "code",
   "execution_count": 15,
   "metadata": {},
   "outputs": [
    {
     "data": {
      "image/png": "[encoded data removed]",
      "text/plain": [
       "<Figure size 432x288 with 1 Axes>"
      ]
     },
     "metadata": {},
     "output_type": "display_data"
    }
   ],
   "source": [
    "plot_reward(irl_reward)"
   ]
  },
  {
   "cell_type": "code",
   "execution_count": 16,
   "metadata": {},
   "outputs": [
    {
     "data": {
      "image/png": "[encoded data removed]",
      "text/plain": [
       "<Figure size 432x288 with 1 Axes>"
      ]
     },
     "metadata": {},
     "output_type": "display_data"
    }
   ],
   "source": [
    "plot_reward(true_reward)"
   ]
  },
  {
   "cell_type": "markdown",
   "metadata": {},
   "source": [
    "## Policy Comparison\n",
    "\n",
    "The cell at the top shows the policy derived from the learned reward function, while the cell below shows the expert policy. Differences in the policies are marked in green.  \n",
    "\n",
    "Overall, the learner-policy matches the expert policy well. States with different policies are barely visited and are not impactful."
   ]
  },
  {
   "cell_type": "code",
   "execution_count": 17,
   "metadata": {},
   "outputs": [
    {
     "name": "stdout",
     "output_type": "stream",
     "text": [
      "↑ → → → → → → → \n",
      "↑ ↑ ↑ ↑ ↑ ↑ → → \n",
      "↑ ↑ ← ← → ↑ → → \n",
      "\u001b[6;30;42m↑\u001b[0m \u001b[6;30;42m↑\u001b[0m ← \u001b[6;30;42m↑\u001b[0m ← ← → → \n",
      "← ↑ ← ← → ↓ ↑ → \n",
      "← ← ← ↓ ↑ ← ← → \n",
      "← ← ↓ ← ← \u001b[6;30;42m→\u001b[0m ← → \n",
      "← ↓ ← ← ↓ → ↓ ← \n"
     ]
    }
   ],
   "source": [
    "visualize_policy(resulting_policy.reshape((8,8)), other_policy=expert_policy.reshape(8,8))"
   ]
  },
  {
   "cell_type": "code",
   "execution_count": 18,
   "metadata": {},
   "outputs": [
    {
     "name": "stdout",
     "output_type": "stream",
     "text": [
      "↑ → → → → → → → \n",
      "↑ ↑ ↑ ↑ ↑ ↑ → → \n",
      "↑ ↑ ← ← → ↑ → → \n",
      "← ← ← ↓ ← ← → → \n",
      "← ↑ ← ← → ↓ ↑ → \n",
      "← ← ← ↓ ↑ ← ← → \n",
      "← ← ↓ ← ← ← ← → \n",
      "← ↓ ← ← ↓ → ↓ ← \n"
     ]
    }
   ],
   "source": [
    "visualize_policy(expert_policy.reshape(8,8))"
   ]
  },
  {
   "cell_type": "markdown",
   "metadata": {},
   "source": [
    "This is also apperent when comparing the ratio of successful episodes to total episodes over 1000 rollouts.\n",
    "Despite the policies not matching perfectly, expert and learner success rates are comparable. Both expert and learner achieve high percentages of successful episodes over 80%."
   ]
  },
  {
   "cell_type": "code",
   "execution_count": 19,
   "metadata": {},
   "outputs": [
    {
     "name": "stdout",
     "output_type": "stream",
     "text": [
      "Expert success rate = 0.885\n",
      "IRL success rate = 0.888\n"
     ]
    }
   ],
   "source": [
    "number_of_rollouts = 1000\n",
    "rollouts = generate_rollouts(env, expert_policy, num_rollouts=number_of_rollouts)\n",
    "print(f\"Expert success rate = {sum([rollout[-1][1] for rollout in rollouts])/number_of_rollouts}\")\n",
    "rollouts = generate_rollouts(env, resulting_policy, num_rollouts=number_of_rollouts)\n",
    "print(f\"IRL success rate = {sum([rollout[-1][1] for rollout in rollouts])/number_of_rollouts}\")"
   ]
  },
  {
   "cell_type": "markdown",
   "metadata": {},
   "source": [
    "## Animation of the resulting policy\n",
    "\n",
    "The cell below can be executed to animate the execution of the learner policy on the environment."
   ]
  },
  {
   "cell_type": "code",
   "execution_count": 21,
   "metadata": {},
   "outputs": [
    {
     "name": "stdout",
     "output_type": "stream",
     "text": [
      "  (Right)\n",
      "SFFFFFFF\n",
      "FFFFFFFF\n",
      "FFFHFFFF\n",
      "FFFFFHFF\n",
      "FFFHFFFF\n",
      "FHHFFFHF\n",
      "FHFFHFHF\n",
      "FFFHFFF\u001b[41mG\u001b[0m\n"
     ]
    }
   ],
   "source": [
    "# animate resulting policy\n",
    "_ = generate_rollouts(env, resulting_policy, num_rollouts=1, render=True, render_fps=10)"
   ]
  },
  {
   "cell_type": "markdown",
   "metadata": {},
   "source": [
    "# Changes made after the presentation:\n",
    "\n",
    "After the discussion of the project presentation, i made some changes to account for the criticism:\n",
    "\n",
    "* Calculate backward pass using value iteration instead of the version from the paper\n",
    "* Choose gamma 0.999 instead of 0.99\n",
    "* More optimization steps\n",
    "\n",
    "Resulting improvements (compare to slides):\n",
    "* Better convergence of feature expectations of learner to expert (small L1 norm of gradient, visualization similar)\n",
    "* Holes mostly have high negative rewards\n",
    "* Smaller gap between learner and expert success rate"
   ]
  },
  {
   "cell_type": "code",
   "execution_count": null,
   "metadata": {},
   "outputs": [],
   "source": []
  }
 ],
 "metadata": {
  "interpreter": {
   "hash": "31f2aee4e71d21fbe5cf8b01ff0e069b9275f58929596ceb00d14d90e3e16cd6"
  },
  "kernelspec": {
   "display_name": "Python 3",
   "language": "python",
   "name": "python3"
  },
  "language_info": {
   "codemirror_mode": {
    "name": "ipython",
    "version": 3
   },
   "file_extension": ".py",
   "mimetype": "text/x-python",
   "name": "python",
   "nbconvert_exporter": "python",
   "pygments_lexer": "ipython3",
   "version": "3.8.10"
  }
 },
 "nbformat": 4,
 "nbformat_minor": 2
}
